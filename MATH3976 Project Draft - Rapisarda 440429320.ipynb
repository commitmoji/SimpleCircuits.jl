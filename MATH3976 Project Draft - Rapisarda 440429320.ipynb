{
 "cells": [
  {
   "cell_type": "markdown",
   "metadata": {},
   "source": [
    "# MATH3976 Project Draft - Simple Circuit Simulator\n",
    "\n",
    "David Rapisarda\n",
    "\n",
    "SID: 440429320"
   ]
  },
  {
   "cell_type": "markdown",
   "metadata": {},
   "source": [
    "### What's currently been completed\n",
    "\n",
    "Most of the plumbing required for connecting and manipulating circuits is completed, as well as a rough but working implementation of linear DC operating point analysis (linearly controlled voltage and current sources aren't implemented yet, and there are still some unhandled cases where an invalid circuit can break the solver). \n",
    "\n",
    "An example of a simple circuit that currently does not work is in \"operating point test 2\" in tests/op.jl.\n",
    "\n",
    "### What will be implemented in the final submission\n",
    "\n",
    " - More robust DC operating point analysis: either checking for invalid circuit configurations (hard) or replacing source components with a 'non-ideal' equivalent (resistor in series for voltage source, resistor in parallel for current source) so that entering an invalid circuit (at least an invalid linear circuit) is impossible\n",
    " - Non-linear DC operating point analysis with diodes, bi-polar junction transistors (BJTs), and metal oxide field effect transistors (MOSEFTs) using the Newton-Raphson method or a similar iterative process - aim to be consistent with the 'hand analysis' models taught in ELEC courses, rather than the experimental data based approach taken by other simulators\n",
    " - Transient analysis for linear circuits with just resistors, capacitors and inductors, and for non-linear circuits with combinations of diodes, MOSFETs and BJTs - most likely implement by casting the system of differential equations into a form usable by the the various `ode` solver functions\n",
    " \n",
    "With the above features implemented, various circuits will be simulated, and the results compared with both hand analysis and SPICE simulations."
   ]
  },
  {
   "cell_type": "code",
   "execution_count": 7,
   "metadata": {
    "collapsed": false
   },
   "outputs": [],
   "source": [
    "include(\"SimpleCircuits.jl\")\n",
    "using SimpleCircuits"
   ]
  },
  {
   "cell_type": "markdown",
   "metadata": {},
   "source": [
    "## DC operating point: example\n",
    "\n",
    "Consider the following circuit:\n",
    "\n",
    "<img src=\"img/circuit1.png\" />\n",
    "\n",
    "Solving the circuit here is equivalent to solving a system with two unknowns, $v_1$ and $v_2$. The linear system can be obtained using Kirchhoff's Current Law at node 2 and the definition of a voltage source at node 1. Using $V = IR$ and summing the currents at node 2:\n",
    "\n",
    "$$ \\frac{v_1 - v_2} {5000} + \\frac {0 - v_2} {10000} = 0 \\implies \\frac{1}{5000} v_1 - (\\frac{1}{5000} + \\frac{1}{10000}) v_2 = 0$$\n",
    "\n",
    "And at node 1:\n",
    "\n",
    "$$ v_1 = v_{GND} + 5 = 5 $$\n",
    "\n",
    "This process for constructing the linear system of equations can be generalized for any linear circuit. Analysis with the current implementation (see `op.jl` for details):"
   ]
  },
  {
   "cell_type": "code",
   "execution_count": 2,
   "metadata": {
    "collapsed": false
   },
   "outputs": [
    {
     "data": {
      "text/plain": [
       "Dict{SimpleCircuits.Node,Float64} with 3 entries:\n",
       "  Node: GND…               => 0.0\n",
       "  Node: Node 2…            => 3.333333333333333\n",
       "  Node: Node 1…            => 5.0"
      ]
     },
     "execution_count": 2,
     "metadata": {},
     "output_type": "execute_result"
    }
   ],
   "source": [
    "# testing linear DC operating point\n",
    "circ = Circuit()\n",
    "\n",
    "# create the components\n",
    "r1 = Resistor(5e+3)\n",
    "r2 = Resistor(10e+3)\n",
    "v_DC = DCVoltageSource(5.)\n",
    "\n",
    "# connect the components, and specify ground (reference voltage)\n",
    "connect!(circ, v_DC.pHigh, r1.p1, \"Node 1\")\n",
    "connect!(circ, r1.p2, r2.p1, \"Node 2\")\n",
    "connect!(circ, r2.p2, v_DC.pLow)\n",
    "connect!(circ, circ.gnd, v_DC.pLow)\n",
    "\n",
    "# compute the DC operating point\n",
    "node_voltages = op(circ)"
   ]
  }
 ],
 "metadata": {
  "kernelspec": {
   "display_name": "Julia 0.4.4-pre",
   "language": "julia",
   "name": "julia-0.4"
  },
  "language_info": {
   "file_extension": ".jl",
   "mimetype": "application/julia",
   "name": "julia",
   "version": "0.4.4"
  }
 },
 "nbformat": 4,
 "nbformat_minor": 0
}
