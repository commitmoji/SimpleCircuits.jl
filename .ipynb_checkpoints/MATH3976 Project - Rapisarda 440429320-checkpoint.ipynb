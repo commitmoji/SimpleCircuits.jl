{
 "cells": [
  {
   "cell_type": "markdown",
   "metadata": {},
   "source": [
    "# MATH3976 Project: SimpleCircuits.jl\n",
    "\n",
    "David Rapisarda\n",
    "\n",
    "SID: 440429320\n",
    "\n",
    "Note: this has two dependencies - [DataStructures.jl](https://github.com/JuliaLang/DataStructures.jl) and [Sundials.jl](https://github.com/JuliaLang/Sundials.jl). "
   ]
  },
  {
   "cell_type": "code",
   "execution_count": 1,
   "metadata": {
    "collapsed": false,
    "scrolled": true
   },
   "outputs": [
    {
     "name": "stdout",
     "output_type": "stream",
     "text": [
      "Julia Version 0.4.5\n",
      "Commit 2ac304d (2016-03-18 00:58 UTC)\n",
      "Platform Info:\n",
      "  System: Linux (x86_64-linux-gnu)\n",
      "  CPU: Intel(R) Core(TM) i5-4670 CPU @ 3.40GHz\n",
      "  WORD_SIZE: 64\n",
      "  BLAS: libopenblas (NO_LAPACK NO_LAPACKE DYNAMIC_ARCH NO_AFFINITY Haswell)\n",
      "  LAPACK: liblapack.so.3\n",
      "  LIBM: libopenlibm\n",
      "  LLVM: libLLVM-3.3\n"
     ]
    }
   ],
   "source": [
    "include(\"SimpleCircuits.jl\")\n",
    "using SimpleCircuits\n",
    "using PyPlot\n",
    "versioninfo()"
   ]
  },
  {
   "cell_type": "code",
   "execution_count": 2,
   "metadata": {
    "collapsed": true
   },
   "outputs": [
    {
     "name": "stdout",
     "output_type": "stream",
     "text": [
      "Running all tests ...\n",
      "\n",
      "Test 'connection test 1 - construct circuit 1' passed.\n",
      "Test 'connection test 2 - test circuit 1 connections' passed.\n",
      "Test 'connection test 3 - test node_index' passed.\n",
      "Test 'connection test 4 - test other_end' passed.\n",
      "Test 'connection test 5 - test circuit 2 connections' passed.\n",
      "Test 'connection test 6 - test disconnect!' passed.\n",
      "Test 'operating point test 1' passed.\n",
      "Test 'operating point test 2' passed.\n",
      "Test 'operating point test 3' passed.\n",
      "Test 'operating point test 4' passed.\n",
      "Test 'operating point test 5' passed.\n",
      "Test 'DCIV test 1 - test DCVoltageSource' passed.\n",
      "Test 'DCIV test 2 - test DCCurrentSource' passed.\n",
      "Test 'DCIV test 3 - test Resistor' passed.\n",
      "Test 'DCIV test 4 - test Capacitor' passed.\n",
      "Test 'DCIV test 5 - test Inductor' passed.\n",
      "Test 'DCIV test 6 - test Diode' passed.\n",
      "Circuit 1 symbol map: \n",
      "DataStructures.OrderedDict{Any,Any}(Node: GND\n",
      "\tport p2 on Resistor \n",
      "\tport pLow on DCVoltageSource \n",
      "=>:(x[1]),Node: node 1\n",
      "\tport pHigh on DCVoltageSource \n",
      "\tport p1 on Resistor \n",
      "=>:(x[2]),Node: node 2\n",
      "\tport p2 on Resistor \n",
      "\tport p1 on Resistor \n",
      "=>:(x[3]),SimpleCircuits.DCVoltageSource(\"\",5.0,port pHigh on a DCVoltageSource connected to node \"node 1\",port pLow on a DCVoltageSource connected to node \"GND\")=>:(x[4]))\n",
      "Circuit 1 generated expressions (= 0): \n",
      "x[1]\n",
      "(0.0 + -1.0 * x[4]) + (x[2] - x[3]) / 5000.0\n",
      "(0.0 + (x[3] - x[2]) / 5000.0) + (x[3] - x[1]) / 10000.0\n",
      "(x[2] - x[1]) - 5.0\n",
      "Test 'op system test 1 - gen_sys_exprs circuit1' passed.\n",
      "Circuit 2 generated expressions (= 0): \n",
      "x[1]\n",
      "(0.0 + -1.0 * x[5]) + (x[2] - x[3]) / 5000.0\n",
      "((0.0 + (x[3] - x[2]) / 5000.0) + (x[3] - x[1]) / 10000.0) + -1.0 * x[6]\n",
      "(0.0 + (x[4] - x[1]) / 7000.0) + 1.0 * x[6]\n",
      "(x[2] - x[1]) - 5.0\n",
      "(x[3] - x[4]) - 10.0\n",
      "Test 'op system test 2 - gen_sys_exprs circuit2' passed.\n",
      "Circuit 3 generated expressions (= 0): \n",
      "x[1]\n",
      "(0.0 + -0.01) + (x[2] - x[3]) / 5000.0\n",
      "((0.0 + (x[3] - x[2]) / 5000.0) + (x[3] - x[1]) / 10000.0) + -1.0 * x[5]\n",
      "(0.0 + (x[4] - x[1]) / 7000.0) + 1.0 * x[5]\n",
      "(x[3] - x[4]) - 10.0\n",
      "Test 'op system test 3 - gen_sys_exprs circuit3' passed.\n",
      "Circuit 4 generated expressions (= 0): \n",
      "x[1]\n",
      "(0.0 + -0.04) + (x[2] - x[1]) / 1000.0\n",
      "Test 'op system test 4 - gen_sys_exprs circuit4' passed.\n",
      "Circuit 5 generated expressions (= 0): \n",
      "x[1]\n",
      "0.0 + -1.0 * x[3]\n",
      "(x[2] - x[1]) - 5.0\n",
      "Test 'op system test 5 - gen_sys_exprs circuit5' passed.\n",
      "Circuit 6 generated expressions (= 0): \n",
      "x[1]\n",
      "(0.0 + (x[2] - x[3]) / 50.0) + -1.0 * x[4]\n",
      "(0.0 + (x[3] - x[2]) / 50.0) + begin  # /home/mrid/projects/SimpleCircuits/dciv_relations.jl, line 283:\n",
      "        I = 0.0 # /home/mrid/projects/SimpleCircuits/dciv_relations.jl, line 284:\n",
      "        if x[3] - x[1] > -(log10(1.0e-11)) / 10.0 # /home/mrid/projects/SimpleCircuits/dciv_relations.jl, line 285:\n",
      "            I = 1.0e-11 * (exp((-(log10(1.0e-11)) / 10.0) / (1.0 * 0.026)) - 1.0) + ((1.0e-11 / (1.0 * 0.026)) * exp((-(log10(1.0e-11)) / 10.0) / (1.0 * 0.026))) * ((x[3] - x[1]) - -(log10(1.0e-11)) / 10.0)\n",
      "        else  # /home/mrid/projects/SimpleCircuits/dciv_relations.jl, line 287:\n",
      "            I = 1.0e-11 * (exp((x[3] - x[1]) / (1.0 * 0.026)) - 1.0)\n",
      "        end # /home/mrid/projects/SimpleCircuits/dciv_relations.jl, line 289:\n",
      "        I = 1.0I # /home/mrid/projects/SimpleCircuits/dciv_relations.jl, line 290:\n",
      "        I\n",
      "    end\n",
      "(x[2] - x[1]) - 5.0\n",
      "Test 'op system test 6 - gen_sys_exprs circuit6' passed.\n",
      "Test 'op system test 6 - gen_sys_F circuit1' passed.\n",
      "Test 'op system test 7 - gen_sys_F circuit2' passed.\n",
      "Test 'op system test 8 - gen_sys_F circuit3' passed.\n",
      "Test 'op system test 9 - gen_sys_F circuit4' passed.\n",
      "Test 'op system test 10 - gen_sys_F circuit5' passed.\n",
      "Circuit 1 Jacobian expressions: \n",
      "size: (4,4)\n",
      "Any[1.0 0.0 0.0 0.0\n",
      "    :((0.0 + 0.0) + 0.0) :((0.0 + 0.0) + 1 / 5000.0) :((0.0 + 0.0) + -1 / 5000.0) :((0.0 + -1.0) + 0.0)\n",
      "    :((0.0 + 0.0) + -1 / 10000.0) :((0.0 + -1 / 5000.0) + 0.0) :((0.0 + 1 / 5000.0) + 1 / 10000.0) :((0.0 + 0.0) + 0.0)\n",
      "    :(0.0 + -1.0) :(0.0 + 1.0) :(0.0 + 0.0) :(0.0 + 0.0)]\n",
      "Test 'op system test 11 - gen_J_exprs circuit1' passed.\n",
      "Circuit 2 Jacobian expressions: \n",
      "size: (6,6)\n",
      "Any[1.0 0.0 0.0 0.0 0.0 0.0\n",
      "    :((0.0 + 0.0) + 0.0) :((0.0 + 0.0) + 1 / 5000.0) :((0.0 + 0.0) + -1 / 5000.0) :((0.0 + 0.0) + 0.0) :((0.0 + -1.0) + 0.0) :((0.0 + 0.0) + 0.0)\n",
      "    :(((0.0 + 0.0) + -1 / 10000.0) + 0.0) :(((0.0 + -1 / 5000.0) + 0.0) + 0.0) :(((0.0 + 1 / 5000.0) + 1 / 10000.0) + 0.0) :(((0.0 + 0.0) + 0.0) + 0.0) :(((0.0 + 0.0) + 0.0) + 0.0) :(((0.0 + 0.0) + 0.0) + -1.0)\n",
      "    :((0.0 + -1 / 7000.0) + 0.0) :((0.0 + 0.0) + 0.0) :((0.0 + 0.0) + 0.0) :((0.0 + 1 / 7000.0) + 0.0) :((0.0 + 0.0) + 0.0) :((0.0 + 0.0) + 1.0)\n",
      "    :(0.0 + -1.0) :(0.0 + 1.0) :(0.0 + 0.0) :(0.0 + 0.0) :(0.0 + 0.0) :(0.0 + 0.0)\n",
      "    :(0.0 + 0.0) :(0.0 + 0.0) :(0.0 + 1.0) :(0.0 + -1.0) :(0.0 + 0.0) :(0.0 + 0.0)]\n",
      "Test 'op system test 12 - gen_J_exprs circuit1' passed.\n",
      "Circuit 3 Jacobian expressions: \n",
      "size: (5,5)\n",
      "Any[1.0 0.0 0.0 0.0 0.0\n",
      "    :((0.0 + 0.0) + 0.0) :((0.0 + 0.0) + 1 / 5000.0) :((0.0 + 0.0) + -1 / 5000.0) :((0.0 + 0.0) + 0.0) :((0.0 + 0.0) + 0.0)\n",
      "    :(((0.0 + 0.0) + -1 / 10000.0) + 0.0) :(((0.0 + -1 / 5000.0) + 0.0) + 0.0) :(((0.0 + 1 / 5000.0) + 1 / 10000.0) + 0.0) :(((0.0 + 0.0) + 0.0) + 0.0) :(((0.0 + 0.0) + 0.0) + -1.0)\n",
      "    :((0.0 + -1 / 7000.0) + 0.0) :((0.0 + 0.0) + 0.0) :((0.0 + 0.0) + 0.0) :((0.0 + 1 / 7000.0) + 0.0) :((0.0 + 0.0) + 1.0)\n",
      "    :(0.0 + 0.0) :(0.0 + 0.0) :(0.0 + 1.0) :(0.0 + -1.0) :(0.0 + 0.0)]\n",
      "Test 'op system test 13 - gen_J_exprs circuit1' passed.\n",
      "Circuit 4 Jacobian expressions: \n",
      "size: (2,2)\n",
      "Any[1.0 0.0\n",
      "    :((0.0 + 0.0) + -1 / 1000.0) :((0.0 + 0.0) + 1 / 1000.0)]\n",
      "Test 'op system test 14 - gen_J_exprs circuit1' passed.\n",
      "Circuit 5 Jacobian expressions: \n",
      "size: (3,3)\n",
      "Any[1.0 0.0 0.0\n",
      "    :(0.0 + 0.0) :(0.0 + 0.0) :(0.0 + -1.0)\n",
      "    :(0.0 + -1.0) :(0.0 + 1.0) :(0.0 + 0.0)]\n",
      "Test 'op system test 15 - gen_J_exprs circuit1' passed.\n",
      "Circuit 1 operating point: \n",
      "[0.0,5.0,3.333333333333333,0.0003333333333333334]\n",
      "Test 'op system test 16 - gen_sys_J circuit1' passed.\n",
      "Circuit 2 symbol map: \n",
      "DataStructures.OrderedDict{Any,Any}(Node: GND\n",
      "\tport p2 on Resistor \n",
      "\tport pLow on DCVoltageSource \n",
      "=>:(x[1]),Node: Node 1\n",
      "\tport pHigh on DCVoltageSource \n",
      "\tport p1 on Resistor \n",
      "=>:(x[2]),Node: Node 2\n",
      "\tport p2 on Resistor \n",
      "\tport p1 on Resistor \n",
      "\tport pHigh on DCVoltageSource \n",
      "=>:(x[3]),Node: Node 3\n",
      "\tport p2 on Resistor \n",
      "\tport pLow on DCVoltageSource \n",
      "=>:(x[4]),SimpleCircuits.DCVoltageSource(\"\",5.0,port pHigh on a DCVoltageSource connected to node \"Node 1\",port pLow on a DCVoltageSource connected to node \"GND\")=>:(x[5]),SimpleCircuits.DCVoltageSource(\"\",10.0,port pHigh on a DCVoltageSource connected to node \"Node 2\",port pLow on a DCVoltageSource connected to node \"Node 3\")=>:(x[6]))\n",
      "Circuit 2 operating point: \n",
      "[1.0 0.0 0.0 0.0 0.0 0.0\n",
      " 0.0 0.0002 -0.0002 0.0 -1.0 0.0\n",
      " -0.0001 -0.0002 0.00030000000000000003 0.0 0.0 -1.0\n",
      " -0.00014285714285714287 0.0 0.0 0.00014285714285714287 0.0 1.0\n",
      " -1.0 1.0 0.0 0.0 0.0 0.0\n",
      " 0.0 0.0 1.0 -1.0 0.0 0.0]\n",
      "[0.0,5.0,5.483870967741936,-4.516129032258064,-9.677419354838716e-5,0.0006451612903225806]\n",
      "Test 'op system test 17 - gen_sys_J circuit2' passed.\n",
      "Circuit 3 operating point: \n",
      "[0.0,97.05882352941175,47.058823529411754,37.058823529411754,-0.005294117647058822]\n",
      "Test 'op system test 18 - gen_sys_J circuit3' passed.\n",
      "Circuit 4 operating point: \n",
      "[0.0,40.0]\n",
      "Test 'op system test 19 - gen_sys_J circuit4' passed.\n",
      "Circuit 5 operating point: \n",
      "[0.0,5.0,0.0]\n",
      "Test 'op system test 20 - gen_sys_J circuit5' passed.\n",
      "Circuit 6 operating point: \n",
      "[2.0039038670165114e-25,5.0,0.5953757671855097,0.08809248465628981]\n",
      "Test 'op system test 22 - gen_sys_J circuit6' passed.\n",
      "Circuit 7 operating point: \n",
      "[9.483846901697988e-25,15.0,0.5663681128471824,0.028867263774305634]\n",
      "Test 'op system test 23 - gen_sys_J circuit7' passed.\n",
      "Circuit 1 system expressions (with V symbol):\n",
      "Any[:(x[1]),:((0.0 + -1.0 * x[4]) + (x[2] - x[3]) / 5000.0),:((0.0 + (x[3] - x[2]) / 5000.0) + (x[3] - x[1]) / 10000.0),:((x[2] - x[1]) - V)]\n",
      "Circuti 1 jacobian expressions (with V symbol):\n",
      "Any[1.0 0.0 0.0 0.0\n",
      "    :((0.0 + 0.0) + 0.0) :((0.0 + 0.0) + 1 / 5000.0) :((0.0 + 0.0) + -1 / 5000.0) :((0.0 + -1.0) + 0.0)\n",
      "    :((0.0 + 0.0) + -1 / 10000.0) :((0.0 + -1 / 5000.0) + 0.0) :((0.0 + 1 / 5000.0) + 1 / 10000.0) :((0.0 + 0.0) + 0.0)\n",
      "    :(0.0 + -1.0) :(0.0 + 1.0) :(0.0 + 0.0) :(0.0 + 0.0)]\n",
      "[0.0,10.0,6.666666666666666,0.0006666666666666668]\n",
      "Test 'op symbols test 1 - circuit1 voltage symbol exprs' passed.\n"
     ]
    }
   ],
   "source": [
    "SimpleCircuits.Tests.run_all_tests()"
   ]
  },
  {
   "cell_type": "markdown",
   "metadata": {},
   "source": [
    "This document is split into three parts: in the first, the implementation details of the simulator are covered. In the second part, some examples of the simulator in use are shown. In the last part, some avenues for further work are discussed."
   ]
  },
  {
   "cell_type": "markdown",
   "metadata": {},
   "source": [
    "## Part 1: Implementation Details"
   ]
  },
  {
   "cell_type": "markdown",
   "metadata": {},
   "source": [
    "## Part 2: Examples"
   ]
  },
  {
   "cell_type": "markdown",
   "metadata": {},
   "source": [
    "### Example 1: Voltage Divider\n",
    "\n",
    "This is the simplest example of any interest: two resistors connected in series, excited by a DC voltage source. "
   ]
  },
  {
   "cell_type": "code",
   "execution_count": 3,
   "metadata": {
    "collapsed": false,
    "scrolled": false
   },
   "outputs": [
    {
     "data": {
      "text/plain": [
       "Node voltages: \n",
       "3.333333333333333 <==> Vout\n",
       "5.0 <==> node 1\n",
       "0.0 <==> GND\n",
       "DCVoltageSource currents: \n",
       "0.0003333333333333334 <==> SimpleCircuits.DCVoltageSource(\"\",5.0,port pHigh on a DCVoltageSource connected to node \"node 1\",port pLow on a DCVoltageSource connected to node \"GND\")\n"
      ]
     },
     "execution_count": 3,
     "metadata": {},
     "output_type": "execute_result"
    }
   ],
   "source": [
    "circ = Circuit()\n",
    "r1 = Resistor(5e+3)\n",
    "r2 = Resistor(10e+3)\n",
    "vin = DCVoltageSource(5.)\n",
    "connect!(circ, vin.pLow, circ.gnd)\n",
    "connect!(circ, vin.pHigh, r1.p1)\n",
    "connect!(circ, r1.p2, r2.p1, \"Vout\")\n",
    "connect!(circ, r2.p2, circ.gnd)\n",
    "\n",
    "cop = op(circ)"
   ]
  },
  {
   "cell_type": "markdown",
   "metadata": {},
   "source": [
    "See what happens when varing the value of R1:"
   ]
  },
  {
   "cell_type": "code",
   "execution_count": 8,
   "metadata": {
    "collapsed": false
   },
   "outputs": [
    {
     "data": {
      "image/png": "[encoded data removed]",
      "text/plain": [
       "PyPlot.Figure(PyObject <matplotlib.figure.Figure object at 0x7f97dc9b5be0>)"
      ]
     },
     "metadata": {},
     "output_type": "display_data"
    }
   ],
   "source": [
    "# change the resistance of r1 to a parameter\n",
    "r1.R = :R\n",
    "params = Dict(:R => 1.)\n",
    "R_range = logspace(1., 6., 100)\n",
    "\n",
    "# compute the operating point for all values of this parameter\n",
    "cop = dc_sweep(circ, :R, R_range, params)\n",
    "\n",
    "grid(b=true, which=\"major\")\n",
    "title(\"Voltage divider output vs R1\")\n",
    "xlabel(\"R1 (Ω)\")\n",
    "ylabel(\"Vout (V)\")\n",
    "plot(R_range, cop[r1.p2]);"
   ]
  },
  {
   "cell_type": "markdown",
   "metadata": {},
   "source": [
    "### Example 2: Simple diode circuit\n",
    "\n",
    "Linear circuit analysis is not so interesting, since Thevenin's theorem states that for any linear circuit there exists an equivalent circuit, with one voltage source and one resistor, which appears exactly the same as the original circuit, when looking at two nodes - so now let's examine a simple non-linear circuit. "
   ]
  },
  {
   "cell_type": "code",
   "execution_count": null,
   "metadata": {
    "collapsed": true
   },
   "outputs": [],
   "source": []
  },
  {
   "cell_type": "markdown",
   "metadata": {},
   "source": [
    "## Part 3: Further Work"
   ]
  },
  {
   "cell_type": "markdown",
   "metadata": {},
   "source": []
  }
 ],
 "metadata": {
  "kernelspec": {
   "display_name": "Julia 0.4.5",
   "language": "julia",
   "name": "julia-0.4"
  },
  "language_info": {
   "file_extension": ".jl",
   "mimetype": "application/julia",
   "name": "julia",
   "version": "0.4.5"
  }
 },
 "nbformat": 4,
 "nbformat_minor": 0
}
