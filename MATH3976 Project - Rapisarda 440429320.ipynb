{
 "cells": [
  {
   "cell_type": "markdown",
   "metadata": {},
   "source": [
    "# MATH3976 Project: SimpleCircuits.jl\n",
    "\n",
    "David Rapisarda\n",
    "\n",
    "SID: 440429320\n",
    "\n",
    "Note: this has two dependencies - [DataStructures.jl](https://github.com/JuliaLang/DataStructures.jl) and [Sundials.jl](https://github.com/JuliaLang/Sundials.jl). "
   ]
  },
  {
   "cell_type": "code",
   "execution_count": 1,
   "metadata": {
    "collapsed": false,
    "scrolled": true
   },
   "outputs": [
    {
     "name": "stdout",
     "output_type": "stream",
     "text": [
      "Julia Version 0.4.5\n",
      "Commit 2ac304d (2016-03-18 00:58 UTC)\n",
      "Platform Info:\n",
      "  System: Linux (x86_64-linux-gnu)\n",
      "  CPU: Intel(R) Core(TM) i5-4670 CPU @ 3.40GHz\n",
      "  WORD_SIZE: 64\n",
      "  BLAS: libopenblas (NO_LAPACK NO_LAPACKE DYNAMIC_ARCH NO_AFFINITY Haswell)\n",
      "  LAPACK: liblapack.so.3\n",
      "  LIBM: libopenlibm\n",
      "  LLVM: libLLVM-3.3\n"
     ]
    }
   ],
   "source": [
    "include(\"SimpleCircuits.jl\")\n",
    "using SimpleCircuits\n",
    "using PyPlot\n",
    "versioninfo()"
   ]
  },
  {
   "cell_type": "markdown",
   "metadata": {},
   "source": [
    "This document is split into three parts: in the first, the implementation details of the simulator are covered. In the second part, some examples of the simulator in use are shown. In the last part, the originality of the project in the context of existing research is considered, and some avenues for further work are discussed."
   ]
  },
  {
   "cell_type": "markdown",
   "metadata": {},
   "source": [
    "## Part 1: Implementation Details"
   ]
  },
  {
   "cell_type": "markdown",
   "metadata": {},
   "source": [
    "The "
   ]
  },
  {
   "cell_type": "markdown",
   "metadata": {},
   "source": [
    "## Part 2: Examples"
   ]
  },
  {
   "cell_type": "markdown",
   "metadata": {},
   "source": [
    "### Example 1: Voltage Divider\n",
    "\n",
    "<img src=\"img/example1.png\" />\n",
    "\n",
    "This is the simplest example of any interest: two resistors connected in series, excited by a DC voltage source. "
   ]
  },
  {
   "cell_type": "code",
   "execution_count": 2,
   "metadata": {
    "collapsed": false,
    "scrolled": false
   },
   "outputs": [
    {
     "ename": "LoadError",
     "evalue": "LoadError: MethodError: `newton` has no method matching newton(::Function, ::Function, ::Array{Float64,1}, ::Dict{Symbol,Float64})\nClosest candidates are:\n  newton(::Function, ::Function, ::Array{Float64,1})\n  newton(::Function, ::Function, ::Array{Float64,1}, !Matched::Dict{Symbol,Union{Array{Float64,1},Float64}})\nwhile loading In[2], in expression starting on line 10",
     "output_type": "error",
     "traceback": [
      "LoadError: MethodError: `newton` has no method matching newton(::Function, ::Function, ::Array{Float64,1}, ::Dict{Symbol,Float64})\nClosest candidates are:\n  newton(::Function, ::Function, ::Array{Float64,1})\n  newton(::Function, ::Function, ::Array{Float64,1}, !Matched::Dict{Symbol,Union{Array{Float64,1},Float64}})\nwhile loading In[2], in expression starting on line 10",
      "",
      " in op_raw at /home/mrid/projects/SimpleCircuits/op.jl:218",
      " in op at /home/mrid/projects/SimpleCircuits/op.jl:230"
     ]
    }
   ],
   "source": [
    "circ = Circuit()\n",
    "r1 = Resistor(5e+3)\n",
    "r2 = Resistor(10e+3)\n",
    "vin = DCVoltageSource(5.)\n",
    "connect!(circ, vin.pLow, circ.gnd)\n",
    "connect!(circ, vin.pHigh, r1.p1)\n",
    "connect!(circ, r1.p2, r2.p1, \"Vout\")\n",
    "connect!(circ, r2.p2, circ.gnd)\n",
    "\n",
    "cop = op(circ)"
   ]
  },
  {
   "cell_type": "markdown",
   "metadata": {},
   "source": [
    "See what happens when varing the value of R1:"
   ]
  },
  {
   "cell_type": "code",
   "execution_count": 3,
   "metadata": {
    "collapsed": false
   },
   "outputs": [
    {
     "ename": "LoadError",
     "evalue": "LoadError: MethodError: `dc_sweep` has no method matching dc_sweep(::SimpleCircuits.Circuit, ::Symbol, ::Array{Float64,1}, ::Dict{Symbol,Union{Array{Float64,1},Float64}})\nClosest candidates are:\n  dc_sweep(::SimpleCircuits.Circuit, ::Symbol, ::Any)\n  dc_sweep(::SimpleCircuits.Circuit, ::Symbol, ::Any, !Matched::Dict{Symbol,Float64})\nwhile loading In[3], in expression starting on line 7",
     "output_type": "error",
     "traceback": [
      "LoadError: MethodError: `dc_sweep` has no method matching dc_sweep(::SimpleCircuits.Circuit, ::Symbol, ::Array{Float64,1}, ::Dict{Symbol,Union{Array{Float64,1},Float64}})\nClosest candidates are:\n  dc_sweep(::SimpleCircuits.Circuit, ::Symbol, ::Any)\n  dc_sweep(::SimpleCircuits.Circuit, ::Symbol, ::Any, !Matched::Dict{Symbol,Float64})\nwhile loading In[3], in expression starting on line 7",
      ""
     ]
    }
   ],
   "source": [
    "# change the resistance of r1 to a parameter\n",
    "r1.R = :R\n",
    "params = Parameters(:R => 1.)\n",
    "R_range = logspace(1., 6., 100)\n",
    "\n",
    "# compute the operating point for all values of this parameter\n",
    "cop = dc_sweep(circ, :R, R_range, params)\n",
    "\n",
    "grid(b=true, which=\"major\")\n",
    "title(\"Voltage divider output vs R1\")\n",
    "xlabel(\"R1 (Ω)\")\n",
    "ylabel(\"Vout (V)\")\n",
    "plot(R_range, cop[r1.p2]);"
   ]
  },
  {
   "cell_type": "markdown",
   "metadata": {},
   "source": [
    "### Example 2: Simple diode circuit\n",
    "\n",
    "<img src=\"img/example2.png\" />\n",
    "\n",
    "Linear circuit analysis is not so interesting, since Thevenin's theorem states that for any linear circuit there exists an equivalent circuit, with one voltage source and one resistor, which appears exactly the same as the original circuit, when looking at two nodes - so now let's examine a simple non-linear circuit. "
   ]
  },
  {
   "cell_type": "code",
   "execution_count": 4,
   "metadata": {
    "collapsed": false,
    "scrolled": false
   },
   "outputs": [
    {
     "ename": "LoadError",
     "evalue": "LoadError: MethodError: `dc_sweep` has no method matching dc_sweep(::SimpleCircuits.Circuit, ::Symbol, ::FloatRange{Float64}, ::Dict{Symbol,Union{Array{Float64,1},Float64}})\nClosest candidates are:\n  dc_sweep(::SimpleCircuits.Circuit, ::Symbol, ::Any)\n  dc_sweep(::SimpleCircuits.Circuit, ::Symbol, ::Any, !Matched::Dict{Symbol,Float64})\nwhile loading In[4], in expression starting on line 17",
     "output_type": "error",
     "traceback": [
      "LoadError: MethodError: `dc_sweep` has no method matching dc_sweep(::SimpleCircuits.Circuit, ::Symbol, ::FloatRange{Float64}, ::Dict{Symbol,Union{Array{Float64,1},Float64}})\nClosest candidates are:\n  dc_sweep(::SimpleCircuits.Circuit, ::Symbol, ::Any)\n  dc_sweep(::SimpleCircuits.Circuit, ::Symbol, ::Any, !Matched::Dict{Symbol,Float64})\nwhile loading In[4], in expression starting on line 17",
      ""
     ]
    }
   ],
   "source": [
    "circ = Circuit()\n",
    "r1 = Resistor(1e+3)\n",
    "d1 = Diode() # using the default values for a diode\n",
    "\n",
    "# we will be sweeping over the input voltage\n",
    "vin = DCVoltageSource(:V)\n",
    "\n",
    "connect!(circ, vin.pLow, circ.gnd)\n",
    "connect!(circ, vin.pHigh, r1.p1)\n",
    "connect!(circ, r1.p2, d1.pIn)\n",
    "connect!(circ, d1.pOut, circ.gnd)\n",
    "\n",
    "# default value for Vin - it will be overridden when we sweep anyway\n",
    "params = Parameters(:V => 5.)\n",
    "\n",
    "V_range = -5.:0.01:5.\n",
    "cop = dc_sweep(circ, :V, V_range, params)\n",
    "\n",
    "# plot the voltage on the diode\n",
    "grid(b=true, which=\"major\")\n",
    "title(\"Voltage response of the diode circuit\")\n",
    "xlabel(\"Vin\")\n",
    "ylabel(\"Vout\")\n",
    "plot(V_range, cop[r1.p2]);"
   ]
  },
  {
   "cell_type": "markdown",
   "metadata": {},
   "source": [
    "We can see that the diode in this case acts like a voltage \"limiter\" at one end - in the limited region, the diode is acting like a short circuit, plus a constant ~$0.7 \\textrm{ V}$ voltage drop. This can be extended to form a useful circuit ..."
   ]
  },
  {
   "cell_type": "markdown",
   "metadata": {},
   "source": [
    "### Example 3: Voltage limiter\n",
    "\n",
    "<img src=\"img/example3.png\" />"
   ]
  },
  {
   "cell_type": "markdown",
   "metadata": {},
   "source": [
    "This works the same way as the above circuit does - but now we have two diodes in parallel, facing opposite directions - so the voltage is limited on both sides. For a more interesting result, let's put two diodes in series in one branch, so that the limit on one side should be twice as large as the other side."
   ]
  },
  {
   "cell_type": "code",
   "execution_count": 5,
   "metadata": {
    "collapsed": false,
    "scrolled": false
   },
   "outputs": [
    {
     "ename": "LoadError",
     "evalue": "LoadError: MethodError: `dc_sweep` has no method matching dc_sweep(::SimpleCircuits.Circuit, ::Symbol, ::FloatRange{Float64}, ::Dict{Symbol,Union{Array{Float64,1},Float64}})\nClosest candidates are:\n  dc_sweep(::SimpleCircuits.Circuit, ::Symbol, ::Any)\n  dc_sweep(::SimpleCircuits.Circuit, ::Symbol, ::Any, !Matched::Dict{Symbol,Float64})\nwhile loading In[5], in expression starting on line 24",
     "output_type": "error",
     "traceback": [
      "LoadError: MethodError: `dc_sweep` has no method matching dc_sweep(::SimpleCircuits.Circuit, ::Symbol, ::FloatRange{Float64}, ::Dict{Symbol,Union{Array{Float64,1},Float64}})\nClosest candidates are:\n  dc_sweep(::SimpleCircuits.Circuit, ::Symbol, ::Any)\n  dc_sweep(::SimpleCircuits.Circuit, ::Symbol, ::Any, !Matched::Dict{Symbol,Float64})\nwhile loading In[5], in expression starting on line 24",
      ""
     ]
    }
   ],
   "source": [
    "circ = Circuit()\n",
    "vin = DCVoltageSource(:V)\n",
    "r1 = Resistor(5e+3)\n",
    "\n",
    "# the default parameters are reasonable - we could investigate variations in the ideality factor, temperuture,\n",
    "# saturation current, etc\n",
    "d1 = Diode()\n",
    "d2 = Diode()\n",
    "d3 = Diode()\n",
    "\n",
    "connect!(circ, vin.pLow, circ.gnd)\n",
    "connect!(circ, vin.pHigh, r1.p1)\n",
    "\n",
    "# connect the first (single) diode branch\n",
    "connect!(circ, r1.p2, d1.pIn)\n",
    "connect!(circ, d1.pOut, circ.gnd)\n",
    "\n",
    "# connect the second (double) diode branch\n",
    "connect!(circ, r1.p2, d2.pOut)\n",
    "connect!(circ, d2.pIn, d3.pOut)\n",
    "connect!(circ, d3.pIn, circ.gnd)\n",
    "\n",
    "V_range = -3.:0.01:3.\n",
    "cop = dc_sweep(circ, :V, V_range, params)\n",
    "\n",
    "# plot the voltage on the diode\n",
    "grid(b=true, which=\"major\")\n",
    "title(\"Voltage response of the diode circuit\")\n",
    "xlabel(\"Vin\")\n",
    "ylabel(\"Vout\")\n",
    "plot(V_range, cop[r1.p2]);"
   ]
  },
  {
   "cell_type": "markdown",
   "metadata": {},
   "source": [
    "Let's run transient analysis on the above circuit, with a sinusoidal input (note that because there's no components that introduce time derivatives, this is equivalent to a DC sweep):"
   ]
  },
  {
   "cell_type": "code",
   "execution_count": 6,
   "metadata": {
    "collapsed": false,
    "scrolled": false
   },
   "outputs": [
    {
     "ename": "LoadError",
     "evalue": "LoadError: MethodError: `newton` has no method matching newton(::Function, ::Function, ::Array{Float64,1}, ::Dict{Symbol,Float64})\nClosest candidates are:\n  newton(::Function, ::Function, ::Array{Float64,1})\n  newton(::Function, ::Function, ::Array{Float64,1}, !Matched::Dict{Symbol,Union{Array{Float64,1},Float64}})\nwhile loading In[6], in expression starting on line 14",
     "output_type": "error",
     "traceback": [
      "LoadError: MethodError: `newton` has no method matching newton(::Function, ::Function, ::Array{Float64,1}, ::Dict{Symbol,Float64})\nClosest candidates are:\n  newton(::Function, ::Function, ::Array{Float64,1})\n  newton(::Function, ::Function, ::Array{Float64,1}, !Matched::Dict{Symbol,Union{Array{Float64,1},Float64}})\nwhile loading In[6], in expression starting on line 14",
      "",
      " in op_raw at /home/mrid/projects/SimpleCircuits/op.jl:218",
      " in trans_raw at /home/mrid/projects/SimpleCircuits/op.jl:291",
      " in trans at /home/mrid/projects/SimpleCircuits/op.jl:321",
      " in trans at /home/mrid/projects/SimpleCircuits/op.jl:318"
     ]
    }
   ],
   "source": [
    "# we have to replace the DCVoltageSource with a VoltageSource - probably a poor design decision there\n",
    "# disconnect both it's ports\n",
    "methods(disconnect!)\n",
    "disconnect!(circ, vin.pLow)\n",
    "disconnect!(circ, vin.pHigh)\n",
    "\n",
    "# replace it\n",
    "vin = VoltageSource(:(1.3*sin(2pi * t)))\n",
    "connect!(circ, vin.pLow, circ.gnd)\n",
    "connect!(circ, vin.pHigh, r1.p1)\n",
    "\n",
    "# do the analysis\n",
    "trange = 0.:0.01:6\n",
    "cop = trans(circ, trange)\n",
    "\n",
    "grid(b=true, which=\"major\")\n",
    "title(\"Voltage limiter response to a sinusoidal input\")\n",
    "xlabel(\"time (seconds)\")\n",
    "ylabel(\"Voltage (V)\")\n",
    "plot(trange, cop[vin.pHigh])\n",
    "plot(trange, cop[r1.p2])\n",
    "legend([\"Input voltage\", \"Output voltage\"]);"
   ]
  },
  {
   "cell_type": "markdown",
   "metadata": {},
   "source": [
    "### Example 4: Low pass voltage limiter\n",
    "\n",
    "Now we can extend the above circuit to one that has state by adding a capacitor in parallel with the diodes, forming a low pass filter."
   ]
  },
  {
   "cell_type": "code",
   "execution_count": 7,
   "metadata": {
    "collapsed": false,
    "scrolled": false
   },
   "outputs": [
    {
     "ename": "LoadError",
     "evalue": "LoadError: MethodError: `newton` has no method matching newton(::Function, ::Function, ::Array{Float64,1}, ::Dict{Symbol,Float64})\nClosest candidates are:\n  newton(::Function, ::Function, ::Array{Float64,1})\n  newton(::Function, ::Function, ::Array{Float64,1}, !Matched::Dict{Symbol,Union{Array{Float64,1},Float64}})\nwhile loading In[7], in expression starting on line 13",
     "output_type": "error",
     "traceback": [
      "LoadError: MethodError: `newton` has no method matching newton(::Function, ::Function, ::Array{Float64,1}, ::Dict{Symbol,Float64})\nClosest candidates are:\n  newton(::Function, ::Function, ::Array{Float64,1})\n  newton(::Function, ::Function, ::Array{Float64,1}, !Matched::Dict{Symbol,Union{Array{Float64,1},Float64}})\nwhile loading In[7], in expression starting on line 13",
      "",
      " in op_raw at /home/mrid/projects/SimpleCircuits/op.jl:218",
      " in trans_raw at /home/mrid/projects/SimpleCircuits/op.jl:291",
      " in trans at /home/mrid/projects/SimpleCircuits/op.jl:321",
      " in trans at /home/mrid/projects/SimpleCircuits/op.jl:318"
     ]
    }
   ],
   "source": [
    "c1 = Capacitor(3e-7)\n",
    "\n",
    "# connect it across the diode branches\n",
    "connect!(circ, c1.p1, r1.p2)\n",
    "connect!(circ, c1.p2, circ.gnd)\n",
    "\n",
    "# set the input voltage frequency to 700 Hz\n",
    "f = 0.7e+3\n",
    "vin.V = :(1.5*sin(2pi*$(f)*t))\n",
    "\n",
    "# set a small range as appropriate for a high frequency\n",
    "trange = 0.:0.00001:0.03\n",
    "cop = trans(circ, trange)\n",
    "\n",
    "grid(b=true, which=\"major\")\n",
    "plot(trange, cop[r1.p2])\n",
    "\n",
    "# now do it again, for a lower frequency\n",
    "f = 0.1e+3\n",
    "vin.V = :(1.3*sin(2pi*$(f)*t))\n",
    "\n",
    "cop = trans(circ, trange)\n",
    "plot(trange, cop[r1.p2])\n",
    "\n",
    "legend([\"700 Hz response\", \"100 Hz response\"])\n",
    "xlabel(\"time (s)\")\n",
    "ylabel(\"Output voltage (V)\");"
   ]
  },
  {
   "cell_type": "markdown",
   "metadata": {},
   "source": [
    "### Example 5: Simple NPN BJT circuit"
   ]
  },
  {
   "cell_type": "code",
   "execution_count": 8,
   "metadata": {
    "collapsed": false,
    "scrolled": true
   },
   "outputs": [
    {
     "ename": "LoadError",
     "evalue": "LoadError: MethodError: `newton` has no method matching newton(::Function, ::Function, ::Array{Float64,1}, ::Dict{Symbol,Float64})\nClosest candidates are:\n  newton(::Function, ::Function, ::Array{Float64,1})\n  newton(::Function, ::Function, ::Array{Float64,1}, !Matched::Dict{Symbol,Union{Array{Float64,1},Float64}})\nwhile loading In[8], in expression starting on line 17",
     "output_type": "error",
     "traceback": [
      "LoadError: MethodError: `newton` has no method matching newton(::Function, ::Function, ::Array{Float64,1}, ::Dict{Symbol,Float64})\nClosest candidates are:\n  newton(::Function, ::Function, ::Array{Float64,1})\n  newton(::Function, ::Function, ::Array{Float64,1}, !Matched::Dict{Symbol,Union{Array{Float64,1},Float64}})\nwhile loading In[8], in expression starting on line 17",
      "",
      " in op_raw at /home/mrid/projects/SimpleCircuits/op.jl:218",
      " in op at /home/mrid/projects/SimpleCircuits/op.jl:230"
     ]
    }
   ],
   "source": [
    "circ = Circuit()\n",
    "vcc = DCVoltageSource(10.)\n",
    "rc = Resistor(100.)\n",
    "rb1 = Resistor(30e+3)\n",
    "rb2 = Resistor(10e+3)\n",
    "q1 = NPN(βf=100.)\n",
    "\n",
    "connect!(circ, vcc.pLow, circ.gnd)\n",
    "connect!(circ, vcc.pHigh, rc.p1, \"VCC\")\n",
    "connect!(circ, rc.p2, q1.pC, \"Vout\")\n",
    "connect!(circ, rb1.p1, vcc.pHigh)\n",
    "connect!(circ, rb1.p2, q1.pB, \"VB\")\n",
    "connect!(circ, rb2.p1, rb1.p2)\n",
    "connect!(circ, rb2.p2, circ.gnd)\n",
    "connect!(circ, q1.pE, circ.gnd)\n",
    "\n",
    "cop = op(circ)"
   ]
  },
  {
   "cell_type": "markdown",
   "metadata": {},
   "source": [
    "What happens to the circuit as $\\beta_f$, the ratio between collector and base currents in forward active mode, varies?"
   ]
  },
  {
   "cell_type": "code",
   "execution_count": 9,
   "metadata": {
    "collapsed": false,
    "scrolled": false
   },
   "outputs": [
    {
     "ename": "LoadError",
     "evalue": "LoadError: MethodError: `dc_sweep` has no method matching dc_sweep(::SimpleCircuits.Circuit, ::Symbol, ::FloatRange{Float64}, ::Dict{Symbol,Union{Array{Float64,1},Float64}})\nClosest candidates are:\n  dc_sweep(::SimpleCircuits.Circuit, ::Symbol, ::Any)\n  dc_sweep(::SimpleCircuits.Circuit, ::Symbol, ::Any, !Matched::Dict{Symbol,Float64})\nwhile loading In[9], in expression starting on line 7",
     "output_type": "error",
     "traceback": [
      "LoadError: MethodError: `dc_sweep` has no method matching dc_sweep(::SimpleCircuits.Circuit, ::Symbol, ::FloatRange{Float64}, ::Dict{Symbol,Union{Array{Float64,1},Float64}})\nClosest candidates are:\n  dc_sweep(::SimpleCircuits.Circuit, ::Symbol, ::Any)\n  dc_sweep(::SimpleCircuits.Circuit, ::Symbol, ::Any, !Matched::Dict{Symbol,Float64})\nwhile loading In[9], in expression starting on line 7",
      ""
     ]
    }
   ],
   "source": [
    "# what happens to the node voltages as the forward Ic/Ib ratio parameter (βf) varies?\n",
    "q1.βf = :βf\n",
    "\n",
    "params = Parameters(:βf => 50.)\n",
    "\n",
    "βf_range = 50.:1.:500.\n",
    "cop = dc_sweep(circ, :βf, βf_range, params)\n",
    "\n",
    "# plot the output voltage, and also plot the current through VCC\n",
    "subplot(2, 1, 1)\n",
    "grid(b=true, which=\"major\")\n",
    "title(\"Collector voltage (V) vs forward beta\")\n",
    "plot(βf_range, cop[q1.pC])\n",
    "subplot(2, 1, 2)\n",
    "title(\"Supply current (mA) vs forward beta\")\n",
    "grid(b=true, which=\"major\")\n",
    "plot(βf_range, 1e+3 * cop[vcc]);"
   ]
  },
  {
   "cell_type": "markdown",
   "metadata": {},
   "source": [
    "The transistor is in the forward active region up until $\\beta_f = 400$, beyond which the transistor is saturated."
   ]
  },
  {
   "cell_type": "markdown",
   "metadata": {},
   "source": [
    "### Example 6: NPN BJT circuit with coupling capacitors and small signal input"
   ]
  },
  {
   "cell_type": "code",
   "execution_count": 10,
   "metadata": {
    "collapsed": true
   },
   "outputs": [],
   "source": [
    "# first, change βf back to a number\n",
    "q1.βf = 100.\n",
    "\n",
    "# use the previous circuit, and add in the following:\n",
    "#  - a capacitively coupled input signal on the base\n",
    "#  - a capacitively coupled load on the collector\n",
    "\n",
    "# input coupling capacitor\n",
    "cc_in = Capacitor(1e-6)\n",
    "cc_out = Capacitor(1e-6)\n",
    "\n",
    "# input source\n",
    "f = 200.\n",
    "vin = VoltageSource(:(0.04*sin(2π*$(f)*t)))\n",
    "\n",
    "# output load\n",
    "rl = Resistor(10e+3)\n",
    "\n",
    "# connect the input\n",
    "# add a small resistor here, for stability\n",
    "rs = Resistor(100.)\n",
    "connect!(circ, cc_in.p2, q1.pB)\n",
    "connect!(circ, cc_in.p1, rs.p2)\n",
    "connect!(circ, vin.pHigh, rs.p1)\n",
    "connect!(circ, vin.pLow, circ.gnd)\n",
    "\n",
    "# connect the output\n",
    "#connect!(circ, cc_out.p1, q1.pC)\n",
    "#connect!(circ, cc_out.p2, rl.p1, \"Vload\")\n",
    "#connect!(circ, rl.p2, circ.gnd);"
   ]
  },
  {
   "cell_type": "code",
   "execution_count": 11,
   "metadata": {
    "collapsed": false,
    "scrolled": true
   },
   "outputs": [
    {
     "ename": "LoadError",
     "evalue": "LoadError: MethodError: `newton` has no method matching newton(::Function, ::Function, ::Array{Float64,1}, ::Dict{Symbol,Float64})\nClosest candidates are:\n  newton(::Function, ::Function, ::Array{Float64,1})\n  newton(::Function, ::Function, ::Array{Float64,1}, !Matched::Dict{Symbol,Union{Array{Float64,1},Float64}})\nwhile loading In[11], in expression starting on line 8",
     "output_type": "error",
     "traceback": [
      "LoadError: MethodError: `newton` has no method matching newton(::Function, ::Function, ::Array{Float64,1}, ::Dict{Symbol,Float64})\nClosest candidates are:\n  newton(::Function, ::Function, ::Array{Float64,1})\n  newton(::Function, ::Function, ::Array{Float64,1}, !Matched::Dict{Symbol,Union{Array{Float64,1},Float64}})\nwhile loading In[11], in expression starting on line 8",
      "",
      " in op_raw at /home/mrid/projects/SimpleCircuits/op.jl:218",
      " in trans_raw at /home/mrid/projects/SimpleCircuits/op.jl:291",
      " in trans at /home/mrid/projects/SimpleCircuits/op.jl:321",
      " in trans at /home/mrid/projects/SimpleCircuits/op.jl:318"
     ]
    }
   ],
   "source": [
    "f = 200.\n",
    "vin.V = :(0.00001*sin(2π*$(f)*t))\n",
    "\n",
    "cc_in.C = 1e-6\n",
    "\n",
    "# run transient analysis\n",
    "trange = 0.:0.000004:0.15\n",
    "cop_trans = trans(circ, trange)\n",
    "\n",
    "# this is obviously not correct\n",
    "#plot(trange, cop_trans[rl.p1])\n",
    "plot(trange, cop_trans[vin.pHigh])\n",
    "plot(trange, cop_trans[q1.pB])\n",
    "#plot(trange, cop_trans[q1.pC])\n",
    "\n",
    "# my GUESS is that this is happening because we've provided the initial time derivative as the zero vector\n",
    "# but this is not necessarily true"
   ]
  },
  {
   "cell_type": "markdown",
   "metadata": {},
   "source": [
    "## Part 3: Further Work\n",
    "\n",
    "### General interface cleanup/organization\n",
    "\n",
    "The idea of this project is to implement a programmable circuit simulator that's easy and intuitive to use - there's a lot of room for improvement here. For example, the \n",
    "\n",
    "### Improvements to the way 'parameters' are handled\n",
    "\n",
    "### Improvements to the Newton-Raphson implementation\n",
    "\n",
    "### Improvements to transient analysis\n",
    "\n",
    "### Implement MOSFETS\n",
    "\n",
    "### "
   ]
  },
  {
   "cell_type": "markdown",
   "metadata": {},
   "source": []
  }
 ],
 "metadata": {
  "kernelspec": {
   "display_name": "Julia 0.4.5",
   "language": "julia",
   "name": "julia-0.4"
  },
  "language_info": {
   "file_extension": ".jl",
   "mimetype": "application/julia",
   "name": "julia",
   "version": "0.4.5"
  }
 },
 "nbformat": 4,
 "nbformat_minor": 0
}
